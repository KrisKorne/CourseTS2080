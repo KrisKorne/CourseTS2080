{
 "cells": [
  {
   "cell_type": "code",
   "execution_count": 22,
   "id": "419c563a",
   "metadata": {},
   "outputs": [],
   "source": [
    "from abc import ABC, abstractmethod\n",
    "\n",
    "class Animal(ABC):\n",
    "    \n",
    "    #concrete method\n",
    "    #inherited\n",
    "    def sleep(self):\n",
    "        print(\"I am goind to sleep in a while\")\n",
    "        \n",
    "    @abstractmethod\n",
    "    def sound(self):\n",
    "        print(\"This function is for defining the sound by any animal\")\n",
    "        \n",
    "#subclasses or child classes\n",
    "class Snake(Animal):\n",
    "    def sound(self):\n",
    "        print(\"I can hiss\")\n",
    "        \n",
    "class Dog(Animal):\n",
    "    def sound(self):\n",
    "        print(\"I can bark\")\n",
    "        \n",
    "class Lion(Animal):\n",
    "    def sound(self):\n",
    "        print(\"I can roar\")\n",
    "        \n",
    "class Cat(Animal):\n",
    "    def sound(self):\n",
    "        print(\"I can meow\")\n",
    "        \n",
    "class Rabbit(Animal):\n",
    "    def sound(self):\n",
    "        super().sound()\n",
    "        print(\"I can squeak\")\n"
   ]
  },
  {
   "cell_type": "code",
   "execution_count": 21,
   "id": "7e3d27fd",
   "metadata": {},
   "outputs": [
    {
     "name": "stdout",
     "output_type": "stream",
     "text": [
      "I can hiss\n",
      "I can meow\n"
     ]
    }
   ],
   "source": [
    "s = Snake()\n",
    "#s.sleep()\n",
    "s.sound()\n",
    "\n",
    "c = Cat()\n",
    "c.sound()\n",
    "#c.sleep()\n",
    "\n",
    "r = Rabbit()\n",
    "#r.sound()\n"
   ]
  },
  {
   "cell_type": "code",
   "execution_count": 23,
   "id": "362470ed",
   "metadata": {},
   "outputs": [
    {
     "name": "stdout",
     "output_type": "stream",
     "text": [
      "Hello Parent\n",
      "Hello Child\n"
     ]
    }
   ],
   "source": [
    "#single inhereitance example\n",
    "\n",
    "class parent:                   #parent class\n",
    "    def func1(self):\n",
    "        print(\"Hello Parent\")\n",
    "        \n",
    "class child(parent):            #child class\n",
    "    def func2(self):            #include the parent class\n",
    "        print(\"Hello Child\")    # as an argument in the child class\n",
    "        \n",
    "# Driver Code\n",
    "test = child()                  # object created\n",
    "test.func1()                    # parent method called via child object\n",
    "test.func2()                    # child method called"
   ]
  },
  {
   "cell_type": "code",
   "execution_count": 25,
   "id": "bbf0fbfa",
   "metadata": {},
   "outputs": [
    {
     "name": "stdout",
     "output_type": "stream",
     "text": [
      "Hello Parent1\n",
      "Hello Parent2\n",
      "Hello Child\n",
      "(<class '__main__.child'>, <class '__main__.parent1'>, <class '__main__.parent2'>, <class '__main__.parent3'>, <class 'object'>)\n"
     ]
    }
   ],
   "source": [
    "#multiple inheritance example\n",
    "\n",
    "class parent1:                          #first parent class\n",
    "    def func1(self):\n",
    "        print(\"Hello Parent1\")\n",
    "        \n",
    "class parent2:                          #second parent class\n",
    "    def func2(self):\n",
    "        print(\"Hello Parent2\")\n",
    "        \n",
    "class parent3:                          #third parent class\n",
    "    def func2(self):                    #function name same as parent2\n",
    "        print(\"Hello Parent3\")\n",
    "        \n",
    "class child(parent1, parent2, parent3): #child class\n",
    "    def func3(self):                    #we include the parent classes\n",
    "        print(\"Hello Child\")            #as an argument comma separated\n",
    "        \n",
    "#Driver code\n",
    "test = child()              #object created\n",
    "test.func1()                \n",
    "test.func2()\n",
    "test.func3()\n",
    "\n",
    "#to find the order of classes visited by the child class, we use __mro__ on the child class\n",
    "print(child.__mro__)\n"
   ]
  },
  {
   "cell_type": "code",
   "execution_count": 27,
   "id": "d91e1eb0",
   "metadata": {},
   "outputs": [
    {
     "name": "stdout",
     "output_type": "stream",
     "text": [
      "True\n",
      "False\n",
      "True\n",
      "True\n",
      "False\n",
      "True\n"
     ]
    }
   ],
   "source": [
    "#issubclass() and isinstance() example\n",
    "\n",
    "class parent:\n",
    "    def func1():\n",
    "        print(\"Hello Parent\")\n",
    "        \n",
    "class child(parent):\n",
    "    def func2():\n",
    "        print(\"Hello child\")\n",
    "        \n",
    "print(issubclass(child, parent))\n",
    "print(issubclass(parent, child))\n",
    "\n",
    "A = child()\n",
    "B = parent()\n",
    "\n",
    "print(isinstance(A, child))\n",
    "print(isinstance(A, parent))\n",
    "print(isinstance(B, child))\n",
    "print(isinstance(B, parent))\n"
   ]
  },
  {
   "cell_type": "code",
   "execution_count": 29,
   "id": "45982e0b",
   "metadata": {},
   "outputs": [
    {
     "name": "stdout",
     "output_type": "stream",
     "text": [
      "Circle\n",
      "153.93804002589985\n",
      "I am a two-dimensional shape.\n"
     ]
    }
   ],
   "source": [
    "from math import pi\n",
    "class Shape:\n",
    "    \n",
    "    def __init__(self, name):\n",
    "        self.name = name\n",
    "    \n",
    "    def area(self):\n",
    "        pass\n",
    "    def fact(self):\n",
    "        return \"I am a two-dimensional shape.\"\n",
    "    def __str__(self):\n",
    "        return self.name\n",
    "\n",
    "class Circle(Shape):\n",
    "    def __init__(self, radius):\n",
    "        super().__init__(\"Circle\")\n",
    "        self.radius = radius\n",
    "    def area(self):\n",
    "        return pi*self.radius**2\n",
    "    \n",
    "shape_circle = Circle(7)\n",
    "\n",
    "print(shape_circle)\n",
    "print(shape_circle.area())\n",
    "print(shape_circle.fact())\n"
   ]
  },
  {
   "cell_type": "code",
   "execution_count": null,
   "id": "4b604625",
   "metadata": {},
   "outputs": [],
   "source": []
  }
 ],
 "metadata": {
  "kernelspec": {
   "display_name": "Python 3 (ipykernel)",
   "language": "python",
   "name": "python3"
  },
  "language_info": {
   "codemirror_mode": {
    "name": "ipython",
    "version": 3
   },
   "file_extension": ".py",
   "mimetype": "text/x-python",
   "name": "python",
   "nbconvert_exporter": "python",
   "pygments_lexer": "ipython3",
   "version": "3.10.4"
  }
 },
 "nbformat": 4,
 "nbformat_minor": 5
}
