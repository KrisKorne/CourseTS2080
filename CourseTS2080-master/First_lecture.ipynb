{
 "cells": [
  {
   "cell_type": "code",
   "execution_count": 25,
   "id": "326debb1",
   "metadata": {},
   "outputs": [
    {
     "name": "stdout",
     "output_type": "stream",
     "text": [
      "Employee name:  Jessa\n",
      "Working on project : NLP\n",
      "project: NLP\n"
     ]
    }
   ],
   "source": [
    "#base class            \n",
    "class Company:\n",
    "    def __init__(self):\n",
    "        #protected member\n",
    "        self._project = \"NLP\"\n",
    "\n",
    "#child class\n",
    "class Employee(Company):\n",
    "    def __init__(self, name):\n",
    "        self.name = name\n",
    "        Company.__init__(self)\n",
    "        \n",
    "    #public instance methods\n",
    "    def show(self):\n",
    "        print(\"Employee name: \", self.name)\n",
    "        print(\"Working on project :\", self._project)\n",
    "            \n",
    "c = Employee(\"Jessa\")\n",
    "c.show()\n",
    "\n",
    "print('project:', c._project)\n",
    "        "
   ]
  },
  {
   "cell_type": "code",
   "execution_count": 21,
   "id": "3be4dcf4",
   "metadata": {},
   "outputs": [
    {
     "name": "stdout",
     "output_type": "stream",
     "text": [
      "Name:  Jessa\n",
      "salary:  8000\n"
     ]
    }
   ],
   "source": [
    "#creating object of a class\n",
    "emp = Employee('Jessa', 8000, 'NLP')\n",
    "\n",
    "print('Name: ', emp.name)\n",
    "print('salary: ', emp._Employee__salary)"
   ]
  },
  {
   "cell_type": "code",
   "execution_count": null,
   "id": "779da8d0",
   "metadata": {},
   "outputs": [],
   "source": []
  }
 ],
 "metadata": {
  "kernelspec": {
   "display_name": "Python 3 (ipykernel)",
   "language": "python",
   "name": "python3"
  },
  "language_info": {
   "codemirror_mode": {
    "name": "ipython",
    "version": 3
   },
   "file_extension": ".py",
   "mimetype": "text/x-python",
   "name": "python",
   "nbconvert_exporter": "python",
   "pygments_lexer": "ipython3",
   "version": "3.10.4"
  }
 },
 "nbformat": 4,
 "nbformat_minor": 5
}
